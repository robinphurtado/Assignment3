{
 "cells": [
  {
   "cell_type": "markdown",
   "id": "configured-background",
   "metadata": {},
   "source": [
    "# Assignment 3: Linear Regression and Gradient Descent from the Ground Up\n",
    "\n",
    "The goal of this assignment is to work through the fundamentals of Simple Linear Regression (one independent variable) with Mean Squared Error (average L2 loss) using Gradient Descent."
   ]
  },
  {
   "cell_type": "markdown",
   "id": "6c6bc330",
   "metadata": {},
   "source": [
    "## Submission Instructions\n",
    "\n",
    "- Please submit your notebook as a **Jupyter Notebook** on Canvas.\n",
    "- **Due Date: Wednesday, October 22 at 6:59pm**. \n",
    "- **No late submissions** will be accepted for this assignment."
   ]
  },
  {
   "cell_type": "markdown",
   "id": "7f83850a",
   "metadata": {},
   "source": [
    " ## Collaboration:\n",
    "\n"
   ]
  },
  {
   "cell_type": "markdown",
   "id": "b1c783f6",
   "metadata": {},
   "source": [
    "You are allowed to work with others on this assignment.\n",
    "\n",
    "Please list the names of those you work with below."
   ]
  },
  {
   "cell_type": "markdown",
   "id": "48b25847",
   "metadata": {},
   "source": [
    "Collaborators: Amy Tran"
   ]
  },
  {
   "cell_type": "markdown",
   "id": "06c4bd6f",
   "metadata": {},
   "source": [
    "## Part 0 - Imports and CoW"
   ]
  },
  {
   "cell_type": "code",
   "execution_count": 42,
   "id": "5970326d",
   "metadata": {},
   "outputs": [],
   "source": [
    "import numpy as np\n",
    "import pandas as pd\n",
    "import matplotlib.pyplot as plt\n",
    "import seaborn as sns"
   ]
  },
  {
   "cell_type": "code",
   "execution_count": 3,
   "id": "cc21059a",
   "metadata": {},
   "outputs": [],
   "source": [
    "#Set Copy-on-Write\n",
    "pd.options.mode.copy_on_write = True"
   ]
  },
  {
   "cell_type": "markdown",
   "id": "elementary-population",
   "metadata": {},
   "source": [
    "## Part 1 : Linear Regression\n",
    "Suppose we create a linear model with parameters $\\vec{\\hat{\\beta}}=[\\hat{\\beta}_0,...,\\hat{\\beta}_p]$\n",
    "As we saw in lecture, such a model makes predictions $\\hat{y}=\\vec{\\hat{\\beta}}.\\vec{x}=\\sum{\\hat{\\beta}_ix_i}$ \n",
    "\n",
    "\n",
    "### 1.a. \n",
    "Suppose $\\vec{\\hat{\\beta}}=[1,2,1]$ and we receive an observation $x = [4, 2, 1]$. What $\\hat{y}$ value will\n",
    "this model predict for the given observation?"
   ]
  },
  {
   "cell_type": "markdown",
   "id": "valuable-french",
   "metadata": {},
   "source": [
    "Given $\\vec{\\hat{\\beta}}=[1,2,1]$ and observation $x = [4, 2, 1]$,\n",
    "The our equation becomes : \n",
    "\n",
    "$\\hat{y}$ = 1(4) + 2(2) + 1(1)\n",
    "\n",
    "$\\hat{y}$ = 4 + 4 + 1 \n",
    "\n",
    "$\\hat{y}$ = 9"
   ]
  },
  {
   "cell_type": "markdown",
   "id": "beneficial-burke",
   "metadata": {},
   "source": [
    "### 1.b.\n",
    "Suppose the correct $y$ was 6.1. What will be the L2 loss for our prediction $\\hat{y}$ from question 1.a?"
   ]
  },
  {
   "cell_type": "markdown",
   "id": "listed-savannah",
   "metadata": {},
   "source": [
    "L2 = ($y_i$- $\\hat{y}_i$)$^2$\n",
    "\n",
    "L2 = (6.1 - 9)$^2$\n",
    "\n",
    "L2 = (-2.9)$^2$\n",
    "\n",
    "L2 = 8.41"
   ]
  },
  {
   "cell_type": "markdown",
   "id": "favorite-empire",
   "metadata": {},
   "source": [
    "## Part 2 : Gradient Descent with One Parameter\n",
    "\n",
    "The following function generates the dataset you need for the rest of the questions"
   ]
  },
  {
   "cell_type": "code",
   "execution_count": 4,
   "id": "aboriginal-jurisdiction",
   "metadata": {},
   "outputs": [],
   "source": [
    "# This function helps generate a synthetic dataset based on a given slope value\n",
    "def generate_dataset(slope, std=1, num_samples=100, with_intercept=True):\n",
    "    X = np.random.random_sample(num_samples)\n",
    "    e = np.random.randn(num_samples) * std \n",
    "    intercept = -int(with_intercept) * 2\n",
    "    Y = slope * X + intercept + e\n",
    "    #X=X.reshape(-1, 1)\n",
    "    #Y=Y.reshape(-1, 1)\n",
    "    data=pd.DataFrame({'X':X, 'Y':Y})\n",
    "    return data"
   ]
  },
  {
   "cell_type": "code",
   "execution_count": 5,
   "id": "hollow-arthur",
   "metadata": {},
   "outputs": [
    {
     "data": {
      "text/html": [
       "<div>\n",
       "<style scoped>\n",
       "    .dataframe tbody tr th:only-of-type {\n",
       "        vertical-align: middle;\n",
       "    }\n",
       "\n",
       "    .dataframe tbody tr th {\n",
       "        vertical-align: top;\n",
       "    }\n",
       "\n",
       "    .dataframe thead th {\n",
       "        text-align: right;\n",
       "    }\n",
       "</style>\n",
       "<table border=\"1\" class=\"dataframe\">\n",
       "  <thead>\n",
       "    <tr style=\"text-align: right;\">\n",
       "      <th></th>\n",
       "      <th>X</th>\n",
       "      <th>Y</th>\n",
       "    </tr>\n",
       "  </thead>\n",
       "  <tbody>\n",
       "    <tr>\n",
       "      <th>0</th>\n",
       "      <td>0.515103</td>\n",
       "      <td>0.785660</td>\n",
       "    </tr>\n",
       "    <tr>\n",
       "      <th>1</th>\n",
       "      <td>0.596819</td>\n",
       "      <td>5.491852</td>\n",
       "    </tr>\n",
       "    <tr>\n",
       "      <th>2</th>\n",
       "      <td>0.837243</td>\n",
       "      <td>6.722274</td>\n",
       "    </tr>\n",
       "    <tr>\n",
       "      <th>3</th>\n",
       "      <td>0.557099</td>\n",
       "      <td>4.110181</td>\n",
       "    </tr>\n",
       "    <tr>\n",
       "      <th>4</th>\n",
       "      <td>0.552353</td>\n",
       "      <td>5.387770</td>\n",
       "    </tr>\n",
       "    <tr>\n",
       "      <th>...</th>\n",
       "      <td>...</td>\n",
       "      <td>...</td>\n",
       "    </tr>\n",
       "    <tr>\n",
       "      <th>95</th>\n",
       "      <td>0.916752</td>\n",
       "      <td>7.317991</td>\n",
       "    </tr>\n",
       "    <tr>\n",
       "      <th>96</th>\n",
       "      <td>0.364794</td>\n",
       "      <td>2.653995</td>\n",
       "    </tr>\n",
       "    <tr>\n",
       "      <th>97</th>\n",
       "      <td>0.045290</td>\n",
       "      <td>-1.664445</td>\n",
       "    </tr>\n",
       "    <tr>\n",
       "      <th>98</th>\n",
       "      <td>0.560216</td>\n",
       "      <td>2.918498</td>\n",
       "    </tr>\n",
       "    <tr>\n",
       "      <th>99</th>\n",
       "      <td>0.748879</td>\n",
       "      <td>5.441314</td>\n",
       "    </tr>\n",
       "  </tbody>\n",
       "</table>\n",
       "<p>100 rows × 2 columns</p>\n",
       "</div>"
      ],
      "text/plain": [
       "           X         Y\n",
       "0   0.515103  0.785660\n",
       "1   0.596819  5.491852\n",
       "2   0.837243  6.722274\n",
       "3   0.557099  4.110181\n",
       "4   0.552353  5.387770\n",
       "..       ...       ...\n",
       "95  0.916752  7.317991\n",
       "96  0.364794  2.653995\n",
       "97  0.045290 -1.664445\n",
       "98  0.560216  2.918498\n",
       "99  0.748879  5.441314\n",
       "\n",
       "[100 rows x 2 columns]"
      ]
     },
     "execution_count": 5,
     "metadata": {},
     "output_type": "execute_result"
    }
   ],
   "source": [
    "# Example:\n",
    "data = generate_dataset(slope=10)\n",
    "data"
   ]
  },
  {
   "cell_type": "markdown",
   "id": "decent-fruit",
   "metadata": {},
   "source": [
    "### 2.a.\n",
    "\n",
    "Using the following functions (gradient descent, mse_loss, and mse_loss_derivative), find the best value of slope that the gradient descent algorithm can find in 100 iterations for initial slope=0.1 and $\\alpha=0.01$. "
   ]
  },
  {
   "cell_type": "code",
   "execution_count": 9,
   "id": "ruled-thousand",
   "metadata": {},
   "outputs": [],
   "source": [
    "def gradient_descent(df, initial_guess, alpha, n):\n",
    "    guesses = [initial_guess]\n",
    "    guess = initial_guess\n",
    "    while len(guesses) < n:\n",
    "        guess = guess - alpha * df(guess)\n",
    "        guesses.append(guess)\n",
    "    return np.array(guesses)\n",
    "\n",
    "def mse_loss(slope, data):\n",
    "    ''' Mean Squared Error Loss Function '''\n",
    "    x = data['X']\n",
    "    y_obs = data['Y']\n",
    "    y_hat = slope * x\n",
    "    return np.mean((y_hat - y_obs) ** 2)  \n",
    "\n",
    "def mse_loss_derivative(slope, data):\n",
    "    x = data['X']\n",
    "    y_obs = data['Y']\n",
    "    y_hat = slope * x\n",
    "    return np.mean(2 * (y_hat - y_obs) * x)"
   ]
  },
  {
   "cell_type": "code",
   "execution_count": null,
   "id": "offshore-sacramento",
   "metadata": {},
   "outputs": [
    {
     "name": "stdout",
     "output_type": "stream",
     "text": [
      "3.2709216681343998\n"
     ]
    }
   ],
   "source": [
    "# so we have the data that has been generated, and we are trying to find line of best fit.\n",
    "# we only have one param, x that is related to the target, y\n",
    "# finding the best value of slope in 100 iterations will be to take a guess at slope, calculate the MSE, then take the derivative of the MSE, \n",
    "# and use gradient descent to decide how to adjust the param.\n",
    "\n",
    "# we have:\n",
    "# gradient descent function that returns an array of guesses given a derivative function, initial guess/start point, alpha/stepsize, n/total iterations\n",
    "# mse_loss function that returns the MSE of y and yhat given the slope and the data after calculating the yhat\n",
    "# mse_loss_derivative function that returns the derivative of the MSE between y and yhat given the slope and data after again calculating yhat \n",
    "\n",
    "# need to define the df function that the gradient_descent function takes as input.  It calls df(guess) and multiplies it by alpha.  \n",
    "# It looks like that is setting the step size to the next step/ guess, so that is alpha* current slope \n",
    "def df(s):\n",
    "    return mse_loss_derivative(s, data)\n",
    "\n",
    "initial_guess = 0.1 #initial slope\n",
    "alpha = 0.01\n",
    "n = 100\n",
    "\n",
    "# now plug that into the gradient_descent function with the given initial slope and alpha (so why do we have the mse_loss function? )\n",
    "slope_values = gradient_descent(df, initial_guess, alpha, n)\n",
    "\n",
    "# store the last value in the slope_values ( the value that the 100 iternations coverged on) as best_slope\n",
    "best_slope = slope_values[-1]\n",
    "\n",
    "# display value slopes converged to after 100 iterations\n",
    "print(best_slope)\n",
    "\n"
   ]
  },
  {
   "cell_type": "markdown",
   "id": "supported-young",
   "metadata": {},
   "source": [
    "### 2.b.\n",
    "\n",
    "Now change the learning rate to be $\\alpha=0.1$ and repeat 2.a\n"
   ]
  },
  {
   "cell_type": "code",
   "execution_count": 34,
   "id": "emerging-board",
   "metadata": {},
   "outputs": [
    {
     "name": "stdout",
     "output_type": "stream",
     "text": [
      "7.145432347849983\n"
     ]
    }
   ],
   "source": [
    "# assuming all variables carry through from the previous cell, we only need to change the learning rate:\n",
    "# declaring new learning rate as alpha1\n",
    "alpha1 = 0.1\n",
    "\n",
    "# calculate slope values again, calling the new slop values calculcuated with alpha1 slope_values1\n",
    "slope_values1 = gradient_descent(df, initial_guess, alpha1, n)\n",
    "\n",
    "# store the last value in the slope_values at the new learning rate as best_slope1\n",
    "best_slope1 = slope_values1[-1]\n",
    "\n",
    "# display value slope_values1 converged to after 100 iterations\n",
    "print(best_slope1)"
   ]
  },
  {
   "cell_type": "markdown",
   "id": "extra-discussion",
   "metadata": {},
   "source": [
    "### 2.c.\n",
    "Create two plots showing the simple linear regression models you fitted on the observed data when you pick the slope using the gradient descent algorithm above. One plot for data with and one plot for data without an intercept. Each plot should include at least the following:\n",
    "- A scatter plot of all the observed data\n",
    "- Regression lines for the simple linear regression models \n",
    "- An appropriate title, a legend showing which line is which, and labels for both axes"
   ]
  },
  {
   "cell_type": "markdown",
   "id": "3d6ebe29",
   "metadata": {},
   "source": [
    "*Q2C (Intended Meaning): Take the data generated (with_intercept=True) from 2A and 2B and plot the two lines that you fitted from 2A and 2B with the two different learning rates, plotted with a scatterplot of the data. Thats one plot.*\n",
    "\n",
    "*Then generate a new dataset without an intercept (set with_intercept=False when you call generate_dataset) and do the same plot again; two lines, one for each learning rate. The lines you are fitting are still models with no \"bias term\" (no theta-zero).*"
   ]
  },
  {
   "cell_type": "code",
   "execution_count": null,
   "id": "638adb22",
   "metadata": {},
   "outputs": [
    {
     "data": {
      "text/plain": [
       "np.float64(4.9909402585069556)"
      ]
     },
     "execution_count": 98,
     "metadata": {},
     "output_type": "execute_result"
    }
   ],
   "source": [
    "# need plots for data with and without intercept, so need to generate the data without intercept and repeat the linear regression steps\n",
    "# generate data without intercept\n",
    "data_no_intercept = generate_dataset(slope=10, with_intercept=False)\n",
    "data_no_intercept\n",
    "\n",
    "# data with intercept is passed into df function\n",
    "# define df1 function and pass in data_no_intercept\n",
    "def df1(s):\n",
    "    return mse_loss_derivative(s, data_no_intercept)\n",
    "\n",
    "# calculate best slope with alpha/ learning rate .01 initial guess/ slope .10 n= 100 has not changed\n",
    "# perform linear regression over 100 iterations\n",
    "slope_values_no_intercept = gradient_descent(df1, initial_guess, alpha, n)\n",
    "\n",
    "# store best slope for data with no intercept and .01 learning rate\n",
    "best_slope_no_intercept = slope_values_no_intercept[-1]\n",
    "\n",
    "# peek at slope for alpha learning rate with data with no intercept \n",
    "best_slope_no_intercept"
   ]
  },
  {
   "cell_type": "code",
   "execution_count": null,
   "id": "4dca4263",
   "metadata": {},
   "outputs": [
    {
     "data": {
      "text/plain": [
       "np.float64(9.71041723327917)"
      ]
     },
     "execution_count": 99,
     "metadata": {},
     "output_type": "execute_result"
    }
   ],
   "source": [
    "\n",
    "# repeat with alpha1/ learning rate .1 \n",
    "# perform linear regression over 100 iterations\n",
    "slope_values1_no_intercept = gradient_descent(df1, initial_guess, alpha1, n)\n",
    "\n",
    "# store best slope for data with no intercept and .1 learning rate\n",
    "best_slope1_no_intercept = slope_values1_no_intercept[-1]\n",
    "\n",
    "# peek at slope for alpha1 learning rate with data with no intercept \n",
    "best_slope1_no_intercept"
   ]
  },
  {
   "cell_type": "code",
   "execution_count": 127,
   "id": "37fc69e1",
   "metadata": {},
   "outputs": [
    {
     "data": {
      "image/png": "[encoded data removed]",
      "text/plain": [
       "<Figure size 1400x500 with 2 Axes>"
      ]
     },
     "metadata": {},
     "output_type": "display_data"
    }
   ],
   "source": [
    "# graph results\n",
    "plt.figure(figsize=(14,5))\n",
    "plt.subplot(121)\n",
    "sns.scatterplot(data, x='X', y='Y').set(title = 'Generated Data with Line of Best Fit \\n data with intercept, lines without intercept term' )\n",
    "line = best_slope * data['X']\n",
    "line = line.sort_values()\n",
    "line1 = best_slope1 * data['X']\n",
    "line1 = line1.sort_values()\n",
    "data['X']\n",
    "sns.lineplot(x = data['X'], y = line, color = 'green', label = 'Learning Rate .01')\n",
    "sns.lineplot(x = data['X'], y = line1, color = 'red', label = 'Learning Rate .1')\n",
    "\n",
    "plt.subplot(122)\n",
    "sns.scatterplot(data_no_intercept, x='X', y='Y').set(title = 'Generated Data with Line of Best Fit \\n data without intercept, lines without intercept term' )\n",
    "line_no_intercept = best_slope_no_intercept * data_no_intercept['X']\n",
    "lineno_intercept = line_no_intercept.sort_values()\n",
    "line1_no_intercept = best_slope1_no_intercept * data_no_intercept['X']\n",
    "line1_no_intercept = line1_no_intercept.sort_values()\n",
    "data['X']\n",
    "sns.lineplot(x = data_no_intercept['X'], y = line_no_intercept, color = 'green', label = 'Learning Rate .01')\n",
    "sns.lineplot(x = data_no_intercept['X'], y = line1_no_intercept, color = 'red', label = 'Learning Rate .1')\n",
    "plt.show()\n",
    "\n",
    "\n"
   ]
  },
  {
   "cell_type": "markdown",
   "id": "understood-haven",
   "metadata": {},
   "source": [
    "### 2.d.\n",
    "Which value of $\\alpha$ resulted in a better model? Why?"
   ]
  },
  {
   "cell_type": "code",
   "execution_count": null,
   "id": "a49992e0",
   "metadata": {},
   "outputs": [
    {
     "name": "stdout",
     "output_type": "stream",
     "text": [
      "6.383564557897712   1.8413113180270322\n"
     ]
    }
   ],
   "source": [
    "# for data generated with intercept\n",
    "# mse loss for line with alpha/ learning rate .01\n",
    "mse_data_alpha = mse_loss(best_slope, data)\n",
    "# mse loss for line with alpha1/ learning rate .1\n",
    "mse_data_alpha1 = mse_loss(best_slope1, data)\n",
    "print(mse_data_alpha, \" \", mse_data_alpha1)\n",
    "\n",
    "\n",
    "# for data1 generated without intercept\n",
    "# mse loss for line with alpha/ learning rate .01\n",
    "mse_data1_alpha = mse_loss(best_slope_no_intercept, data_no_intercept)\n",
    "# mse loss for line with alpha1/ learning rate .1\n",
    "mse_data1_alpha1 = mse_loss(best_slope1_no_intercept, data_no_intercept)\n",
    "print(mse_data1_alpha, \" \", mse_data1_alpha1)"
   ]
  },
  {
   "cell_type": "markdown",
   "id": "compliant-moscow",
   "metadata": {},
   "source": [
    "The value $\\alpha$ = .1 resulted in the better model.\n",
    "\n",
    "The higher $\\alpha$ / learning rate resulted in a better model because it was taking larger \"steps\" between iterations, so it was able to make more progress towards convergence in the same number of steps. "
   ]
  },
  {
   "cell_type": "markdown",
   "id": "lightweight-darwin",
   "metadata": {},
   "source": [
    "## Part 3 : Gradient Descent with 1-2 parameters\n",
    "\n",
    "### 3.a. \n",
    "Problem 2 did not include an intercept term (or \"bias\" term). Write a function calculate_y_hat(X, Y, with_intercept) that computes the value of y_hat for your model using either one or two parameters (slope and intercept or just slope) based on whether or not an intercept term is specified within the model. The argument with_intercept should be a boolean.\n",
    "\n",
    "Hint: Use sklearn.linear_model.LinearRegression library\n",
    "\n",
    "https://scikit-learn.org/stable/modules/generated/sklearn.linear_model.LinearRegression.html"
   ]
  },
  {
   "cell_type": "code",
   "execution_count": null,
   "id": "infrared-reynolds",
   "metadata": {},
   "outputs": [],
   "source": [
    "# def calculate_y_hat(X, Y, with_intercept):\n",
    "    # Your code here"
   ]
  },
  {
   "cell_type": "markdown",
   "id": "undefined-acting",
   "metadata": {},
   "source": [
    "### 3.b.\n",
    "\n",
    "Create a plot below comparing our fitted simple linear regression model on the observed data for when it includes an intercept v.s. when it does not include an intercept. State your choice of learning rate. Your plot should include at least the following:\n",
    "- A scatter plot of all the observed data\n",
    "- A line plot for the simple linear regression model without an intercept\n",
    "- A line plot for the simple linear regression model with an intercept\n",
    "- An appropriate title, a legend labeling which line contains an intercept, and labels for both axes\n",
    "\n",
    "You should use different colors for the two line plots"
   ]
  },
  {
   "cell_type": "markdown",
   "id": "0449f090",
   "metadata": {},
   "source": [
    "*Q3B: The statement to give the learning rate that you use is a typo. Ignore it.*"
   ]
  },
  {
   "cell_type": "code",
   "execution_count": null,
   "id": "integrated-fellow",
   "metadata": {},
   "outputs": [],
   "source": []
  }
 ],
 "metadata": {
  "kernelspec": {
   "display_name": "venv",
   "language": "python",
   "name": "python3"
  },
  "language_info": {
   "codemirror_mode": {
    "name": "ipython",
    "version": 3
   },
   "file_extension": ".py",
   "mimetype": "text/x-python",
   "name": "python",
   "nbconvert_exporter": "python",
   "pygments_lexer": "ipython3",
   "version": "3.13.7"
  }
 },
 "nbformat": 4,
 "nbformat_minor": 5
}
